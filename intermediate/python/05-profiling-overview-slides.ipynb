{
 "metadata": {
  "celltoolbar": "Slideshow",
  "name": "",
  "signature": "sha256:b6a67769ea155a3478f89bc41141d5c559949f50b7c8f68fc1fa03de5eacc345"
 },
 "nbformat": 3,
 "nbformat_minor": 0,
 "worksheets": [
  {
   "cells": [
    {
     "cell_type": "code",
     "collapsed": false,
     "input": [
      "%matplotlib inline"
     ],
     "language": "python",
     "metadata": {
      "slideshow": {
       "slide_type": "skip"
      }
     },
     "outputs": [],
     "prompt_number": 1
    },
    {
     "cell_type": "markdown",
     "metadata": {
      "slideshow": {
       "slide_type": "slide"
      }
     },
     "source": [
      "# Introduction to Profiling in IPython Notebook\n",
      "\n",
      "### Mark Stillwell\n",
      "\n",
      "August 20, 2014\n",
      "\n",
      "Software Carpentry Instructor Training Exercise\n",
      "\n"
     ]
    },
    {
     "cell_type": "markdown",
     "metadata": {
      "slideshow": {
       "slide_type": "slide"
      }
     },
     "source": [
      "## What is Profiling?\n",
      "\n",
      "- \"dynamic programme analysis to determine resource requirements\" -- Wikipedia\n",
      "- code benchmarking get metrics like runtime and memory usage\n"
     ]
    },
    {
     "cell_type": "markdown",
     "metadata": {
      "slideshow": {
       "slide_type": "subslide"
      }
     },
     "source": [
      "## Why Profile?\n",
      "\n",
      "\n",
      "    \"Premature optimization is the root of all evil.\" -- Knuth"
     ]
    },
    {
     "cell_type": "markdown",
     "metadata": {
      "slideshow": {
       "slide_type": "fragment"
      }
     },
     "source": [
      "- code should first be written for *clarity*\n",
      "    - program correctness is more important than program speed\n",
      "    - programmer time is more expensive than machine time"
     ]
    },
    {
     "cell_type": "markdown",
     "metadata": {
      "slideshow": {
       "slide_type": "fragment"
      }
     },
     "source": [
      "- sometimes speed is important, BUT\n",
      "    - the slowdown might not be where you think it is\n",
      "    - \"improvements\" might or might not be helpful\n",
      "    - ugly code requires quantitative empirical justification"
     ]
    },
    {
     "cell_type": "markdown",
     "metadata": {
      "slideshow": {
       "slide_type": "subslide"
      }
     },
     "source": [
      "## Optimization Workflow (from SciPy Lecture notes 2.4.2)\n",
      "\n",
      "1. make it work -- write code that can be understood\n",
      "2. make it work reliably -- add test cases\n",
      "3. use profiling to identify code bottlenecks and focus on these\n",
      "    - look for the 10% effort that will give 90% benefit\n",
      "    "
     ]
    },
    {
     "cell_type": "markdown",
     "metadata": {
      "slideshow": {
       "slide_type": "slide"
      }
     },
     "source": [
      "## iPython Magics\n",
      "\n",
      "- special commands that can be run using \"%magic\" in an ipython window\n",
      "- built-in profiling magics:\n",
      "    - time\n",
      "    - timeit\n",
      "    - prun\n"
     ]
    },
    {
     "cell_type": "markdown",
     "metadata": {
      "slideshow": {
       "slide_type": "subslide"
      }
     },
     "source": [
      "## time magic\n",
      "\n",
      "- simplest approach, lowest overhead\n",
      "- only runs code *once*"
     ]
    },
    {
     "cell_type": "code",
     "collapsed": false,
     "input": [
      "def fib(n):\n",
      "    return n if n < 2 else fib(n - 1) + fib(n - 2)\n",
      "\n",
      "%time fib(40)"
     ],
     "language": "python",
     "metadata": {
      "slideshow": {
       "slide_type": "-"
      }
     },
     "outputs": [
      {
       "output_type": "stream",
       "stream": "stdout",
       "text": [
        "CPU times: user 38 s, sys: 120 ms, total: 38.2 s\n",
        "Wall time: 38 s\n"
       ]
      },
      {
       "metadata": {},
       "output_type": "pyout",
       "prompt_number": 2,
       "text": [
        "102334155"
       ]
      }
     ],
     "prompt_number": 2
    },
    {
     "cell_type": "markdown",
     "metadata": {
      "slideshow": {
       "slide_type": "subslide"
      }
     },
     "source": [
      "## timeit magic\n",
      "\n",
      "- runs code in a tight loop (10,000 iterations by default)\n",
      "- repeats this 3 times and reports on best\n",
      "- best for timing small/short segments"
     ]
    },
    {
     "cell_type": "code",
     "collapsed": false,
     "input": [
      "def fib(n):\n",
      "    return n if n < 2 else fib(n - 1) + fib(n - 2)\n",
      "\n",
      "# same as \"import timeit; timeit.timeit('fib(10)')\"\n",
      "%timeit fib(10)"
     ],
     "language": "python",
     "metadata": {
      "slideshow": {
       "slide_type": "-"
      }
     },
     "outputs": [
      {
       "output_type": "stream",
       "stream": "stdout",
       "text": [
        "10000 loops, best of 3: 20.3 \u00b5s per loop\n"
       ]
      }
     ],
     "prompt_number": 3
    },
    {
     "cell_type": "markdown",
     "metadata": {
      "slideshow": {
       "slide_type": "subslide"
      }
     },
     "source": [
      "## prun magic\n",
      "\n",
      "- uses cProfile module to collect statistics\n",
      "- tracks how many times functions are called, how long each call takes\n",
      "    - helps determine which functions are running slowly\n",
      "    - helps determine which functions are important to optimize"
     ]
    },
    {
     "cell_type": "code",
     "collapsed": false,
     "input": [
      "from time import sleep\n",
      "def foo(): sleep(1)\n",
      "def bar(): sleep(2)\n",
      "def baz(): foo(), bar()\n",
      "\n",
      "#same as \"import cProfile; cProfile.run('baz()')\n",
      "stats = %prun -D baz.prof -qr baz()\n",
      "\n",
      "stats.sort_stats(-1).print_stats()"
     ],
     "language": "python",
     "metadata": {
      "slideshow": {
       "slide_type": "-"
      }
     },
     "outputs": [
      {
       "output_type": "stream",
       "stream": "stdout",
       "text": [
        " \n",
        "*** Profile stats marshalled to file u'baz.prof'. \n",
        "         7 function calls in 3.003 seconds\n",
        "\n",
        "   Ordered by: standard name\n",
        "\n",
        "   ncalls  tottime  percall  cumtime  percall filename:lineno(function)\n",
        "        1    0.000    0.000    1.001    1.001 <ipython-input-4-9e37cead316a>:2(foo)\n",
        "        1    0.000    0.000    2.002    2.002 <ipython-input-4-9e37cead316a>:3(bar)\n",
        "        1    0.000    0.000    3.003    3.003 <ipython-input-4-9e37cead316a>:4(baz)\n",
        "        1    0.000    0.000    3.003    3.003 <string>:1(<module>)\n",
        "        1    0.000    0.000    0.000    0.000 {method 'disable' of '_lsprof.Profiler' objects}\n",
        "        2    3.003    1.502    3.003    1.502 {time.sleep}\n",
        "\n",
        "\n"
       ]
      },
      {
       "metadata": {},
       "output_type": "pyout",
       "prompt_number": 4,
       "text": [
        "<pstats.Stats instance at 0x7f11ddccd0e0>"
       ]
      }
     ],
     "prompt_number": 4
    },
    {
     "cell_type": "markdown",
     "metadata": {
      "slideshow": {
       "slide_type": "subslide"
      }
     },
     "source": [
      "## Understanding cProfile Output\n",
      "\n",
      "*ncalls*\n",
      ":    the number of times the function is called\n",
      "\n",
      "*tottime*\n",
      ":    the total time spent executing the function across multiple calls, *excluding* calls to other functions\n",
      "\n",
      "*percall*\n",
      ":    tottime / ncalls\n",
      "\n",
      "*cumtime*\n",
      ":    total time spent in the function, *including* calls to subfunctions; accurate even for recursive functions\n",
      "\n",
      "*percall* (2nd column)\n",
      ":    cumtime / \"primitive calls\" (calls not caused by recursion)\n"
     ]
    },
    {
     "cell_type": "markdown",
     "metadata": {
      "slideshow": {
       "slide_type": "subslide"
      }
     },
     "source": [
      "## RunSnakeRun\n",
      "\n",
      "    runsnakerun baz.prof"
     ]
    },
    {
     "cell_type": "markdown",
     "metadata": {
      "slideshow": {
       "slide_type": "slide"
      }
     },
     "source": [
      "## Additional Extensions\n",
      "\n",
      "These can all help out with profiling, but currently require a bit of time and effort to get installed correctly.\n",
      "\n",
      "- lprun\n",
      "- mprun\n",
      "- memit\n",
      "- snakeviz"
     ]
    },
    {
     "cell_type": "markdown",
     "metadata": {},
     "source": [
      "## References\n",
      "\n",
      "- http://scipy-lectures.github.io/ (particularly section 2.4.2)\n",
      "- http://pynash.org/2013/03/06/timing-and-profiling.html\n",
      "- http://www.huyng.com/posts/python-performance-analysis/\n"
     ]
    }
   ],
   "metadata": {}
  }
 ]
}